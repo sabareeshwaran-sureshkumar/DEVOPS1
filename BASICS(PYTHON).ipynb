{
  "nbformat": 4,
  "nbformat_minor": 0,
  "metadata": {
    "colab": {
      "provenance": []
    },
    "kernelspec": {
      "name": "python3",
      "display_name": "Python 3"
    },
    "language_info": {
      "name": "python"
    }
  },
  "cells": [
    {
      "cell_type": "code",
      "execution_count": null,
      "metadata": {
        "colab": {
          "base_uri": "https://localhost:8080/"
        },
        "id": "FzM_BI9XSSp1",
        "outputId": "4069b558-6ef5-444e-e2dc-ca62152e7403"
      },
      "outputs": [
        {
          "output_type": "stream",
          "name": "stdout",
          "text": [
            "Enter the  number:15\n",
            "jugs\n"
          ]
        }
      ],
      "source": [
        "num=int(input(\"Enter the  number:\"))\n",
        "if num%3==0 or '3' in str(num):\n",
        "  print(\"jugs\")\n",
        "elif num%5==0 or '5' in str(num):\n",
        "  print(\"Mugs\")\n",
        "elif num%7==0 or '7' in str(num):\n",
        "  print(\"Pugs\")\n",
        "else:\n",
        "  print(num)\n"
      ]
    },
    {
      "cell_type": "code",
      "source": [
        "if num%3==0 and num%5==0 and num%7==0:\n",
        "  print(\"jugsMugsPugs\")\n",
        "elif num%3==0 and num%5==0:\n",
        "  print(\"JugsMugs\")\n",
        "elif num%3==0 and num%7==0:\n",
        "  print(\"JugsPugs\")\n",
        "elif num%5==0 and num%7==0:\n",
        "  print(\"MugsPugs\")\n",
        "elif num%3==0 or '3' in str(num):\n",
        "  print(\"jugs\")\n",
        "elif num%5==0 or '5' in str(num):\n",
        "  print(\"Mugs\")\n",
        "elif num%7==0 or '7' in str(num):\n",
        "  print(\"Pugs\")\n",
        "else:\n",
        "  print(num)"
      ],
      "metadata": {
        "id": "5KYiaJHQSan8"
      },
      "execution_count": null,
      "outputs": []
    },
    {
      "cell_type": "code",
      "source": [
        "n=int(input())\n",
        "list1=[3,5,7]\n",
        "list2=[\"Jugs\",\"Mugs\",\"Pugs\"]\n",
        "list3=[]\n",
        "for i in range(len(list1)):\n",
        "  if n%list1[i]==0:\n",
        "    list3.append(list2[i])\n",
        "    #print(list2[i],end='')\n",
        "print(list3[::-1],end='')"
      ],
      "metadata": {
        "colab": {
          "base_uri": "https://localhost:8080/"
        },
        "id": "fL3VZSjlct0U",
        "outputId": "2fd887fd-9952-4641-8089-9c709a53ae48"
      },
      "execution_count": null,
      "outputs": [
        {
          "output_type": "stream",
          "name": "stdout",
          "text": [
            "105\n",
            "['Pugs', 'Mugs', 'Jugs']"
          ]
        }
      ]
    },
    {
      "cell_type": "code",
      "source": [],
      "metadata": {
        "id": "KwJI3YMSd0HD"
      },
      "execution_count": null,
      "outputs": []
    }
  ]
}